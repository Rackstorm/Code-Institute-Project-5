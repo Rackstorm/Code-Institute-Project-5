{
 "cells": [
  {
   "cell_type": "markdown",
   "metadata": {
    "id": "0aStgWSO0E0E"
   },
   "source": [
    "# **01 - Data Collection**"
   ]
  },
  {
   "cell_type": "markdown",
   "metadata": {
    "id": "1eLEkw5O0ECa"
   },
   "source": [
    "## Objectives\n",
    "\n",
    "* Fetch data from Kaggle and save as raw data in separate folder.\n",
    "* Prepare data for further development.\n",
    "\n",
    "## Inputs\n",
    "\n",
    "* JSON file from Kaggle - authentication token.\n",
    "\n",
    "## Outputs\n",
    "\n",
    "* Generate Dataset: inputs/datasets/cherry_mildew_dataset\n",
    "\n"
   ]
  },
  {
   "cell_type": "markdown",
   "metadata": {
    "id": "9uWZXH9LwoQg"
   },
   "source": [
    "---"
   ]
  },
  {
   "cell_type": "markdown",
   "metadata": {
    "id": "cqP-UeN-z3i2"
   },
   "source": [
    "# Installing neccessary packages and requirements"
   ]
  },
  {
   "cell_type": "code",
   "execution_count": 2,
   "metadata": {},
   "outputs": [
    {
     "name": "stdout",
     "output_type": "stream",
     "text": [
      "Requirement already satisfied: numpy==1.19.2 in /home/codeany/.local/lib/python3.8/site-packages (from -r /workspaces/Code-Institute-Project-5/requirements.txt (line 1)) (1.19.2)\n",
      "Requirement already satisfied: pandas==1.1.2 in /home/codeany/.local/lib/python3.8/site-packages (from -r /workspaces/Code-Institute-Project-5/requirements.txt (line 2)) (1.1.2)\n",
      "Requirement already satisfied: matplotlib==3.3.1 in /home/codeany/.local/lib/python3.8/site-packages (from -r /workspaces/Code-Institute-Project-5/requirements.txt (line 3)) (3.3.1)\n",
      "Requirement already satisfied: seaborn==0.11.0 in /home/codeany/.local/lib/python3.8/site-packages (from -r /workspaces/Code-Institute-Project-5/requirements.txt (line 4)) (0.11.0)\n",
      "Requirement already satisfied: plotly==4.12.0 in /home/codeany/.local/lib/python3.8/site-packages (from -r /workspaces/Code-Institute-Project-5/requirements.txt (line 5)) (4.12.0)\n",
      "Requirement already satisfied: streamlit==0.85.0 in /home/codeany/.local/lib/python3.8/site-packages (from -r /workspaces/Code-Institute-Project-5/requirements.txt (line 7)) (0.85.0)\n",
      "Requirement already satisfied: scikit-learn==0.24.2 in /home/codeany/.local/lib/python3.8/site-packages (from -r /workspaces/Code-Institute-Project-5/requirements.txt (line 9)) (0.24.2)\n",
      "Requirement already satisfied: tensorflow-cpu==2.6.0 in /home/codeany/.local/lib/python3.8/site-packages (from -r /workspaces/Code-Institute-Project-5/requirements.txt (line 10)) (2.6.0)\n",
      "Requirement already satisfied: keras==2.6.0 in /home/codeany/.local/lib/python3.8/site-packages (from -r /workspaces/Code-Institute-Project-5/requirements.txt (line 11)) (2.6.0)\n",
      "Requirement already satisfied: protobuf==3.20 in /home/codeany/.local/lib/python3.8/site-packages (from -r /workspaces/Code-Institute-Project-5/requirements.txt (line 12)) (3.20.0)\n",
      "Requirement already satisfied: altair<5 in /home/codeany/.local/lib/python3.8/site-packages (from -r /workspaces/Code-Institute-Project-5/requirements.txt (line 13)) (4.2.2)\n",
      "Requirement already satisfied: python-dateutil>=2.7.3 in /home/codeany/.pyenv/versions/3.8.12/lib/python3.8/site-packages (from pandas==1.1.2->-r /workspaces/Code-Institute-Project-5/requirements.txt (line 2)) (2.8.2)\n",
      "Requirement already satisfied: pytz>=2017.2 in /home/codeany/.pyenv/versions/3.8.12/lib/python3.8/site-packages (from pandas==1.1.2->-r /workspaces/Code-Institute-Project-5/requirements.txt (line 2)) (2023.3.post1)\n",
      "Requirement already satisfied: certifi>=2020.06.20 in /home/codeany/.pyenv/versions/3.8.12/lib/python3.8/site-packages (from matplotlib==3.3.1->-r /workspaces/Code-Institute-Project-5/requirements.txt (line 3)) (2023.11.17)\n",
      "Requirement already satisfied: cycler>=0.10 in /home/codeany/.local/lib/python3.8/site-packages (from matplotlib==3.3.1->-r /workspaces/Code-Institute-Project-5/requirements.txt (line 3)) (0.12.1)\n",
      "Requirement already satisfied: kiwisolver>=1.0.1 in /home/codeany/.local/lib/python3.8/site-packages (from matplotlib==3.3.1->-r /workspaces/Code-Institute-Project-5/requirements.txt (line 3)) (1.4.5)\n",
      "Requirement already satisfied: pillow>=6.2.0 in /home/codeany/.local/lib/python3.8/site-packages (from matplotlib==3.3.1->-r /workspaces/Code-Institute-Project-5/requirements.txt (line 3)) (10.1.0)\n",
      "Requirement already satisfied: pyparsing!=2.0.4,!=2.1.2,!=2.1.6,>=2.0.3 in /home/codeany/.local/lib/python3.8/site-packages (from matplotlib==3.3.1->-r /workspaces/Code-Institute-Project-5/requirements.txt (line 3)) (3.1.1)\n",
      "Requirement already satisfied: scipy>=1.0 in /home/codeany/.local/lib/python3.8/site-packages (from seaborn==0.11.0->-r /workspaces/Code-Institute-Project-5/requirements.txt (line 4)) (1.9.3)\n",
      "Requirement already satisfied: retrying>=1.3.3 in /home/codeany/.local/lib/python3.8/site-packages (from plotly==4.12.0->-r /workspaces/Code-Institute-Project-5/requirements.txt (line 5)) (1.3.4)\n",
      "Requirement already satisfied: six in /home/codeany/.local/lib/python3.8/site-packages (from plotly==4.12.0->-r /workspaces/Code-Institute-Project-5/requirements.txt (line 5)) (1.15.0)\n",
      "Requirement already satisfied: astor in /home/codeany/.local/lib/python3.8/site-packages (from streamlit==0.85.0->-r /workspaces/Code-Institute-Project-5/requirements.txt (line 7)) (0.8.1)\n",
      "Requirement already satisfied: attrs in /home/codeany/.pyenv/versions/3.8.12/lib/python3.8/site-packages (from streamlit==0.85.0->-r /workspaces/Code-Institute-Project-5/requirements.txt (line 7)) (23.1.0)\n",
      "Requirement already satisfied: base58 in /home/codeany/.local/lib/python3.8/site-packages (from streamlit==0.85.0->-r /workspaces/Code-Institute-Project-5/requirements.txt (line 7)) (2.1.1)\n",
      "Requirement already satisfied: blinker in /home/codeany/.local/lib/python3.8/site-packages (from streamlit==0.85.0->-r /workspaces/Code-Institute-Project-5/requirements.txt (line 7)) (1.7.0)\n",
      "Requirement already satisfied: cachetools>=4.0 in /home/codeany/.local/lib/python3.8/site-packages (from streamlit==0.85.0->-r /workspaces/Code-Institute-Project-5/requirements.txt (line 7)) (5.3.2)\n",
      "Requirement already satisfied: click<8.0,>=7.0 in /home/codeany/.local/lib/python3.8/site-packages (from streamlit==0.85.0->-r /workspaces/Code-Institute-Project-5/requirements.txt (line 7)) (7.1.2)\n",
      "Requirement already satisfied: packaging in /home/codeany/.pyenv/versions/3.8.12/lib/python3.8/site-packages (from streamlit==0.85.0->-r /workspaces/Code-Institute-Project-5/requirements.txt (line 7)) (23.2)\n",
      "Requirement already satisfied: pyarrow in /home/codeany/.local/lib/python3.8/site-packages (from streamlit==0.85.0->-r /workspaces/Code-Institute-Project-5/requirements.txt (line 7)) (14.0.1)\n",
      "Requirement already satisfied: pydeck>=0.1.dev5 in /home/codeany/.local/lib/python3.8/site-packages (from streamlit==0.85.0->-r /workspaces/Code-Institute-Project-5/requirements.txt (line 7)) (0.8.1b0)\n",
      "Requirement already satisfied: requests in /home/codeany/.pyenv/versions/3.8.12/lib/python3.8/site-packages (from streamlit==0.85.0->-r /workspaces/Code-Institute-Project-5/requirements.txt (line 7)) (2.31.0)\n",
      "Requirement already satisfied: toml in /home/codeany/.local/lib/python3.8/site-packages (from streamlit==0.85.0->-r /workspaces/Code-Institute-Project-5/requirements.txt (line 7)) (0.10.2)\n",
      "Requirement already satisfied: tornado>=5.0 in /home/codeany/.pyenv/versions/3.8.12/lib/python3.8/site-packages (from streamlit==0.85.0->-r /workspaces/Code-Institute-Project-5/requirements.txt (line 7)) (6.3.3)\n",
      "Requirement already satisfied: tzlocal in /home/codeany/.local/lib/python3.8/site-packages (from streamlit==0.85.0->-r /workspaces/Code-Institute-Project-5/requirements.txt (line 7)) (5.2)\n",
      "Requirement already satisfied: validators in /home/codeany/.local/lib/python3.8/site-packages (from streamlit==0.85.0->-r /workspaces/Code-Institute-Project-5/requirements.txt (line 7)) (0.22.0)\n",
      "Requirement already satisfied: gitpython in /home/codeany/.pyenv/versions/3.8.12/lib/python3.8/site-packages (from streamlit==0.85.0->-r /workspaces/Code-Institute-Project-5/requirements.txt (line 7)) (3.1.40)\n",
      "Requirement already satisfied: watchdog in /home/codeany/.local/lib/python3.8/site-packages (from streamlit==0.85.0->-r /workspaces/Code-Institute-Project-5/requirements.txt (line 7)) (3.0.0)\n",
      "Requirement already satisfied: joblib>=0.11 in /home/codeany/.local/lib/python3.8/site-packages (from scikit-learn==0.24.2->-r /workspaces/Code-Institute-Project-5/requirements.txt (line 9)) (1.3.2)\n",
      "Requirement already satisfied: threadpoolctl>=2.0.0 in /home/codeany/.local/lib/python3.8/site-packages (from scikit-learn==0.24.2->-r /workspaces/Code-Institute-Project-5/requirements.txt (line 9)) (3.2.0)\n",
      "Requirement already satisfied: absl-py~=0.10 in /home/codeany/.local/lib/python3.8/site-packages (from tensorflow-cpu==2.6.0->-r /workspaces/Code-Institute-Project-5/requirements.txt (line 10)) (0.15.0)\n",
      "Requirement already satisfied: astunparse~=1.6.3 in /home/codeany/.local/lib/python3.8/site-packages (from tensorflow-cpu==2.6.0->-r /workspaces/Code-Institute-Project-5/requirements.txt (line 10)) (1.6.3)\n",
      "Requirement already satisfied: clang~=5.0 in /home/codeany/.local/lib/python3.8/site-packages (from tensorflow-cpu==2.6.0->-r /workspaces/Code-Institute-Project-5/requirements.txt (line 10)) (5.0)\n",
      "Requirement already satisfied: flatbuffers~=1.12.0 in /home/codeany/.local/lib/python3.8/site-packages (from tensorflow-cpu==2.6.0->-r /workspaces/Code-Institute-Project-5/requirements.txt (line 10)) (1.12)\n",
      "Requirement already satisfied: google-pasta~=0.2 in /home/codeany/.local/lib/python3.8/site-packages (from tensorflow-cpu==2.6.0->-r /workspaces/Code-Institute-Project-5/requirements.txt (line 10)) (0.2.0)\n",
      "Requirement already satisfied: h5py~=3.1.0 in /home/codeany/.local/lib/python3.8/site-packages (from tensorflow-cpu==2.6.0->-r /workspaces/Code-Institute-Project-5/requirements.txt (line 10)) (3.1.0)\n",
      "Requirement already satisfied: keras-preprocessing~=1.1.2 in /home/codeany/.local/lib/python3.8/site-packages (from tensorflow-cpu==2.6.0->-r /workspaces/Code-Institute-Project-5/requirements.txt (line 10)) (1.1.2)\n",
      "Requirement already satisfied: opt-einsum~=3.3.0 in /home/codeany/.local/lib/python3.8/site-packages (from tensorflow-cpu==2.6.0->-r /workspaces/Code-Institute-Project-5/requirements.txt (line 10)) (3.3.0)\n",
      "Requirement already satisfied: termcolor~=1.1.0 in /home/codeany/.local/lib/python3.8/site-packages (from tensorflow-cpu==2.6.0->-r /workspaces/Code-Institute-Project-5/requirements.txt (line 10)) (1.1.0)\n",
      "Requirement already satisfied: typing-extensions~=3.7.4 in /home/codeany/.local/lib/python3.8/site-packages (from tensorflow-cpu==2.6.0->-r /workspaces/Code-Institute-Project-5/requirements.txt (line 10)) (3.7.4.3)\n",
      "Requirement already satisfied: wheel~=0.35 in /home/codeany/.pyenv/versions/3.8.12/lib/python3.8/site-packages (from tensorflow-cpu==2.6.0->-r /workspaces/Code-Institute-Project-5/requirements.txt (line 10)) (0.41.3)\n",
      "Requirement already satisfied: wrapt~=1.12.1 in /home/codeany/.local/lib/python3.8/site-packages (from tensorflow-cpu==2.6.0->-r /workspaces/Code-Institute-Project-5/requirements.txt (line 10)) (1.12.1)\n",
      "Requirement already satisfied: gast==0.4.0 in /home/codeany/.local/lib/python3.8/site-packages (from tensorflow-cpu==2.6.0->-r /workspaces/Code-Institute-Project-5/requirements.txt (line 10)) (0.4.0)\n",
      "Requirement already satisfied: tensorboard~=2.6 in /home/codeany/.local/lib/python3.8/site-packages (from tensorflow-cpu==2.6.0->-r /workspaces/Code-Institute-Project-5/requirements.txt (line 10)) (2.14.0)\n",
      "Requirement already satisfied: tensorflow-estimator~=2.6 in /home/codeany/.local/lib/python3.8/site-packages (from tensorflow-cpu==2.6.0->-r /workspaces/Code-Institute-Project-5/requirements.txt (line 10)) (2.15.0)\n",
      "Requirement already satisfied: grpcio<2.0,>=1.37.0 in /home/codeany/.local/lib/python3.8/site-packages (from tensorflow-cpu==2.6.0->-r /workspaces/Code-Institute-Project-5/requirements.txt (line 10)) (1.59.3)\n",
      "Requirement already satisfied: entrypoints in /home/codeany/.local/lib/python3.8/site-packages (from altair<5->-r /workspaces/Code-Institute-Project-5/requirements.txt (line 13)) (0.4)\n",
      "Requirement already satisfied: jinja2 in /home/codeany/.pyenv/versions/3.8.12/lib/python3.8/site-packages (from altair<5->-r /workspaces/Code-Institute-Project-5/requirements.txt (line 13)) (3.1.2)\n",
      "Requirement already satisfied: jsonschema>=3.0 in /home/codeany/.pyenv/versions/3.8.12/lib/python3.8/site-packages (from altair<5->-r /workspaces/Code-Institute-Project-5/requirements.txt (line 13)) (4.20.0)\n",
      "Requirement already satisfied: toolz in /home/codeany/.local/lib/python3.8/site-packages (from altair<5->-r /workspaces/Code-Institute-Project-5/requirements.txt (line 13)) (0.12.0)\n",
      "Requirement already satisfied: importlib-resources>=1.4.0 in /home/codeany/.pyenv/versions/3.8.12/lib/python3.8/site-packages (from jsonschema>=3.0->altair<5->-r /workspaces/Code-Institute-Project-5/requirements.txt (line 13)) (6.1.1)\n",
      "Requirement already satisfied: jsonschema-specifications>=2023.03.6 in /home/codeany/.pyenv/versions/3.8.12/lib/python3.8/site-packages (from jsonschema>=3.0->altair<5->-r /workspaces/Code-Institute-Project-5/requirements.txt (line 13)) (2023.11.1)\n",
      "Requirement already satisfied: pkgutil-resolve-name>=1.3.10 in /home/codeany/.pyenv/versions/3.8.12/lib/python3.8/site-packages (from jsonschema>=3.0->altair<5->-r /workspaces/Code-Institute-Project-5/requirements.txt (line 13)) (1.3.10)\n",
      "Requirement already satisfied: referencing>=0.28.4 in /home/codeany/.pyenv/versions/3.8.12/lib/python3.8/site-packages (from jsonschema>=3.0->altair<5->-r /workspaces/Code-Institute-Project-5/requirements.txt (line 13)) (0.31.0)\n",
      "Requirement already satisfied: rpds-py>=0.7.1 in /home/codeany/.pyenv/versions/3.8.12/lib/python3.8/site-packages (from jsonschema>=3.0->altair<5->-r /workspaces/Code-Institute-Project-5/requirements.txt (line 13)) (0.13.1)\n",
      "Requirement already satisfied: MarkupSafe>=2.0 in /home/codeany/.pyenv/versions/3.8.12/lib/python3.8/site-packages (from jinja2->altair<5->-r /workspaces/Code-Institute-Project-5/requirements.txt (line 13)) (2.1.3)\n",
      "Requirement already satisfied: google-auth<3,>=1.6.3 in /home/codeany/.local/lib/python3.8/site-packages (from tensorboard~=2.6->tensorflow-cpu==2.6.0->-r /workspaces/Code-Institute-Project-5/requirements.txt (line 10)) (2.23.4)\n",
      "Requirement already satisfied: google-auth-oauthlib<1.1,>=0.5 in /home/codeany/.local/lib/python3.8/site-packages (from tensorboard~=2.6->tensorflow-cpu==2.6.0->-r /workspaces/Code-Institute-Project-5/requirements.txt (line 10)) (1.0.0)\n",
      "Requirement already satisfied: markdown>=2.6.8 in /home/codeany/.local/lib/python3.8/site-packages (from tensorboard~=2.6->tensorflow-cpu==2.6.0->-r /workspaces/Code-Institute-Project-5/requirements.txt (line 10)) (3.5.1)\n",
      "Requirement already satisfied: setuptools>=41.0.0 in /home/codeany/.pyenv/versions/3.8.12/lib/python3.8/site-packages (from tensorboard~=2.6->tensorflow-cpu==2.6.0->-r /workspaces/Code-Institute-Project-5/requirements.txt (line 10)) (69.0.2)\n",
      "Requirement already satisfied: tensorboard-data-server<0.8.0,>=0.7.0 in /home/codeany/.local/lib/python3.8/site-packages (from tensorboard~=2.6->tensorflow-cpu==2.6.0->-r /workspaces/Code-Institute-Project-5/requirements.txt (line 10)) (0.7.2)\n",
      "Requirement already satisfied: werkzeug>=1.0.1 in /home/codeany/.local/lib/python3.8/site-packages (from tensorboard~=2.6->tensorflow-cpu==2.6.0->-r /workspaces/Code-Institute-Project-5/requirements.txt (line 10)) (3.0.1)\n",
      "Requirement already satisfied: charset-normalizer<4,>=2 in /home/codeany/.pyenv/versions/3.8.12/lib/python3.8/site-packages (from requests->streamlit==0.85.0->-r /workspaces/Code-Institute-Project-5/requirements.txt (line 7)) (3.3.2)\n",
      "Requirement already satisfied: idna<4,>=2.5 in /home/codeany/.pyenv/versions/3.8.12/lib/python3.8/site-packages (from requests->streamlit==0.85.0->-r /workspaces/Code-Institute-Project-5/requirements.txt (line 7)) (3.4)\n",
      "Requirement already satisfied: urllib3<3,>=1.21.1 in /home/codeany/.pyenv/versions/3.8.12/lib/python3.8/site-packages (from requests->streamlit==0.85.0->-r /workspaces/Code-Institute-Project-5/requirements.txt (line 7)) (2.1.0)\n",
      "Requirement already satisfied: gitdb<5,>=4.0.1 in /home/codeany/.pyenv/versions/3.8.12/lib/python3.8/site-packages (from gitpython->streamlit==0.85.0->-r /workspaces/Code-Institute-Project-5/requirements.txt (line 7)) (4.0.11)\n",
      "Requirement already satisfied: backports.zoneinfo in /home/codeany/.local/lib/python3.8/site-packages (from tzlocal->streamlit==0.85.0->-r /workspaces/Code-Institute-Project-5/requirements.txt (line 7)) (0.2.1)\n",
      "Requirement already satisfied: smmap<6,>=3.0.1 in /home/codeany/.pyenv/versions/3.8.12/lib/python3.8/site-packages (from gitdb<5,>=4.0.1->gitpython->streamlit==0.85.0->-r /workspaces/Code-Institute-Project-5/requirements.txt (line 7)) (5.0.1)\n",
      "Requirement already satisfied: pyasn1-modules>=0.2.1 in /home/codeany/.local/lib/python3.8/site-packages (from google-auth<3,>=1.6.3->tensorboard~=2.6->tensorflow-cpu==2.6.0->-r /workspaces/Code-Institute-Project-5/requirements.txt (line 10)) (0.3.0)\n",
      "Requirement already satisfied: rsa<5,>=3.1.4 in /home/codeany/.local/lib/python3.8/site-packages (from google-auth<3,>=1.6.3->tensorboard~=2.6->tensorflow-cpu==2.6.0->-r /workspaces/Code-Institute-Project-5/requirements.txt (line 10)) (4.9)\n",
      "Requirement already satisfied: requests-oauthlib>=0.7.0 in /home/codeany/.local/lib/python3.8/site-packages (from google-auth-oauthlib<1.1,>=0.5->tensorboard~=2.6->tensorflow-cpu==2.6.0->-r /workspaces/Code-Institute-Project-5/requirements.txt (line 10)) (1.3.1)\n",
      "Requirement already satisfied: zipp>=3.1.0 in /home/codeany/.pyenv/versions/3.8.12/lib/python3.8/site-packages (from importlib-resources>=1.4.0->jsonschema>=3.0->altair<5->-r /workspaces/Code-Institute-Project-5/requirements.txt (line 13)) (3.17.0)\n",
      "Requirement already satisfied: importlib-metadata>=4.4 in /home/codeany/.pyenv/versions/3.8.12/lib/python3.8/site-packages (from markdown>=2.6.8->tensorboard~=2.6->tensorflow-cpu==2.6.0->-r /workspaces/Code-Institute-Project-5/requirements.txt (line 10)) (6.8.0)\n",
      "Requirement already satisfied: pyasn1<0.6.0,>=0.4.6 in /home/codeany/.local/lib/python3.8/site-packages (from pyasn1-modules>=0.2.1->google-auth<3,>=1.6.3->tensorboard~=2.6->tensorflow-cpu==2.6.0->-r /workspaces/Code-Institute-Project-5/requirements.txt (line 10)) (0.5.1)\n",
      "Requirement already satisfied: oauthlib>=3.0.0 in /home/codeany/.local/lib/python3.8/site-packages (from requests-oauthlib>=0.7.0->google-auth-oauthlib<1.1,>=0.5->tensorboard~=2.6->tensorflow-cpu==2.6.0->-r /workspaces/Code-Institute-Project-5/requirements.txt (line 10)) (3.2.2)\n"
     ]
    }
   ],
   "source": [
    "!pip install -r /workspaces/Code-Institute-Project-5/requirements.txt"
   ]
  },
  {
   "cell_type": "code",
   "execution_count": 3,
   "metadata": {},
   "outputs": [],
   "source": [
    "import numpy\n",
    "import os"
   ]
  },
  {
   "cell_type": "markdown",
   "metadata": {
    "id": "cqP-UeN-z3i2"
   },
   "source": [
    "# Change working directory"
   ]
  },
  {
   "cell_type": "code",
   "execution_count": 4,
   "metadata": {
    "id": "wZfF_j-Bz3i4",
    "outputId": "66943449-1436-4c3d-85c7-b85f9f78349b"
   },
   "outputs": [
    {
     "data": {
      "text/plain": [
       "'/workspaces/Code-Institute-Project-5/jupyter_notebooks'"
      ]
     },
     "execution_count": 4,
     "metadata": {},
     "output_type": "execute_result"
    }
   ],
   "source": [
    "current_dir = os.getcwd()\n",
    "current_dir"
   ]
  },
  {
   "cell_type": "markdown",
   "metadata": {
    "id": "aOGIGS-uz3i2"
   },
   "source": [
    "We need to change the working directory from its current folder to its parent folder\n",
    "* We access the current directory with os.getcwd()"
   ]
  },
  {
   "cell_type": "markdown",
   "metadata": {
    "id": "9MWW8E7lz3i7"
   },
   "source": [
    "We want to make the parent of the current directory the new current directory\n",
    "* os.path.dirname() gets the parent directory\n",
    "* os.chir() defines the new current directory"
   ]
  },
  {
   "cell_type": "code",
   "execution_count": 11,
   "metadata": {
    "id": "TwHsQRWjz3i9",
    "outputId": "86849db3-cd2f-4cc5-ebb8-2d0caafa1a2c"
   },
   "outputs": [
    {
     "name": "stdout",
     "output_type": "stream",
     "text": [
      "You set a new current directory\n"
     ]
    }
   ],
   "source": [
    "os.chdir(os.path.dirname(current_dir))\n",
    "print(\"You set a new current directory\")"
   ]
  },
  {
   "cell_type": "markdown",
   "metadata": {
    "id": "M_xPk_Ijz3i-"
   },
   "source": [
    "Confirm the new current directory"
   ]
  },
  {
   "cell_type": "code",
   "execution_count": 12,
   "metadata": {
    "id": "vz3S-_kjz3jA",
    "outputId": "00b79ae4-75d0-4a96-d193-ac9ef9847ea2"
   },
   "outputs": [
    {
     "data": {
      "text/plain": [
       "'/workspaces'"
      ]
     },
     "execution_count": 12,
     "metadata": {},
     "output_type": "execute_result"
    }
   ],
   "source": [
    "current_dir = os.getcwd()\n",
    "current_dir"
   ]
  },
  {
   "cell_type": "markdown",
   "metadata": {
    "id": "-mavJ8DibrcQ"
   },
   "source": [
    "# Installing Kaggle"
   ]
  },
  {
   "cell_type": "markdown",
   "metadata": {},
   "source": [
    "Installing and importing dataset from Kaggle"
   ]
  },
  {
   "cell_type": "code",
   "execution_count": 13,
   "metadata": {},
   "outputs": [
    {
     "name": "stdout",
     "output_type": "stream",
     "text": [
      "Requirement already satisfied: kaggle in /home/codeany/.local/lib/python3.8/site-packages (1.5.16)\n",
      "Requirement already satisfied: six>=1.10 in /home/codeany/.local/lib/python3.8/site-packages (from kaggle) (1.15.0)\n",
      "Requirement already satisfied: certifi in /home/codeany/.pyenv/versions/3.8.12/lib/python3.8/site-packages (from kaggle) (2023.11.17)\n",
      "Requirement already satisfied: python-dateutil in /home/codeany/.pyenv/versions/3.8.12/lib/python3.8/site-packages (from kaggle) (2.8.2)\n",
      "Requirement already satisfied: requests in /home/codeany/.pyenv/versions/3.8.12/lib/python3.8/site-packages (from kaggle) (2.31.0)\n",
      "Requirement already satisfied: tqdm in /home/codeany/.local/lib/python3.8/site-packages (from kaggle) (4.66.1)\n",
      "Requirement already satisfied: python-slugify in /home/codeany/.local/lib/python3.8/site-packages (from kaggle) (8.0.1)\n",
      "Requirement already satisfied: urllib3 in /home/codeany/.pyenv/versions/3.8.12/lib/python3.8/site-packages (from kaggle) (2.1.0)\n",
      "Requirement already satisfied: bleach in /home/codeany/.pyenv/versions/3.8.12/lib/python3.8/site-packages (from kaggle) (6.1.0)\n",
      "Requirement already satisfied: webencodings in /home/codeany/.pyenv/versions/3.8.12/lib/python3.8/site-packages (from bleach->kaggle) (0.5.1)\n",
      "Requirement already satisfied: text-unidecode>=1.3 in /home/codeany/.local/lib/python3.8/site-packages (from python-slugify->kaggle) (1.3)\n",
      "Requirement already satisfied: charset-normalizer<4,>=2 in /home/codeany/.pyenv/versions/3.8.12/lib/python3.8/site-packages (from requests->kaggle) (3.3.2)\n",
      "Requirement already satisfied: idna<4,>=2.5 in /home/codeany/.pyenv/versions/3.8.12/lib/python3.8/site-packages (from requests->kaggle) (3.4)\n"
     ]
    }
   ],
   "source": [
    "!pip install kaggle"
   ]
  },
  {
   "cell_type": "markdown",
   "metadata": {
    "id": "ZY3l0-AxO93d"
   },
   "source": [
    "Adding the kaggle.json token"
   ]
  },
  {
   "cell_type": "code",
   "execution_count": 14,
   "metadata": {},
   "outputs": [
    {
     "name": "stdout",
     "output_type": "stream",
     "text": [
      "chmod: cannot access 'kaggle.json': No such file or directory\n"
     ]
    }
   ],
   "source": [
    "os.environ['KAGGLE_CONFIG_DIR'] = os.getcwd()\n",
    "! chmod 600 kaggle.json"
   ]
  },
  {
   "cell_type": "code",
   "execution_count": 15,
   "metadata": {},
   "outputs": [
    {
     "name": "stdout",
     "output_type": "stream",
     "text": [
      "Traceback (most recent call last):\n",
      "  File \"/home/codeany/.local/bin/kaggle\", line 5, in <module>\n",
      "    from kaggle.cli import main\n",
      "  File \"/home/codeany/.local/lib/python3.8/site-packages/kaggle/__init__.py\", line 23, in <module>\n",
      "    api.authenticate()\n",
      "  File \"/home/codeany/.local/lib/python3.8/site-packages/kaggle/api/kaggle_api_extended.py\", line 403, in authenticate\n",
      "    raise IOError('Could not find {}. Make sure it\\'s located in'\n",
      "OSError: Could not find kaggle.json. Make sure it's located in /workspaces. Or use the environment method.\n"
     ]
    }
   ],
   "source": [
    "KaggleDatasetPath = 'codeinstitute/cherry-leaves'\n",
    "DestinationFolder = 'inputs/mildew_dataset'\n",
    "! kaggle datasets download -d {KaggleDatasetPath} -p {DestinationFolder}"
   ]
  },
  {
   "cell_type": "markdown",
   "metadata": {},
   "source": [
    "Unzip the folder and upload images into destination folder"
   ]
  },
  {
   "cell_type": "code",
   "execution_count": 16,
   "metadata": {},
   "outputs": [
    {
     "name": "stdout",
     "output_type": "stream",
     "text": [
      "unzip:  cannot find or open inputs/mildew_dataset/*.zip, inputs/mildew_dataset/*.zip.zip or inputs/mildew_dataset/*.zip.ZIP.\n",
      "\n",
      "No zipfiles found.\n"
     ]
    }
   ],
   "source": [
    "! unzip {DestinationFolder}/*.zip -d {DestinationFolder} \\\n",
    "&& rm {DestinationFolder}/*.zip"
   ]
  },
  {
   "cell_type": "markdown",
   "metadata": {
    "id": "uFQo3ycuO-v6"
   },
   "source": [
    "# Preparing Data"
   ]
  },
  {
   "cell_type": "markdown",
   "metadata": {},
   "source": [
    "After all necessary requirements, packages and dependecies are installed as well as dataset the next step is to clean and prepare the data into being splitted up into training, validation and testing chunks."
   ]
  },
  {
   "cell_type": "markdown",
   "metadata": {},
   "source": [
    "## Cleaning Data"
   ]
  },
  {
   "cell_type": "markdown",
   "metadata": {},
   "source": [
    "The code below is borrowed from the Malaria Walkthrough Project."
   ]
  },
  {
   "cell_type": "code",
   "execution_count": 17,
   "metadata": {},
   "outputs": [],
   "source": [
    "def remove_non_image_file(my_data_dir):\n",
    "    image_extension = ('.png', '.jpg', '.jpeg')\n",
    "    folders = os.listdir(my_data_dir)\n",
    "    for folder in folders:\n",
    "        files = os.listdir(my_data_dir + '/' + folder)\n",
    "        # print(files)\n",
    "        i = []\n",
    "        j = []\n",
    "        for given_file in files:\n",
    "            if not given_file.lower().endswith(image_extension):\n",
    "                file_location = my_data_dir + '/' + folder + '/' + given_file\n",
    "                os.remove(file_location)  # remove non image file\n",
    "                i.append(1)\n",
    "            else:\n",
    "                j.append(1)\n",
    "                pass\n",
    "        print(f\"Folder: {folder} - has image file\", len(j))\n",
    "        print(f\"Folder: {folder} - has non-image file\", len(i))"
   ]
  },
  {
   "cell_type": "code",
   "execution_count": 18,
   "metadata": {},
   "outputs": [
    {
     "ename": "FileNotFoundError",
     "evalue": "[Errno 2] No such file or directory: 'inputs/cherry_mildew_dataset/cherry-leaves'",
     "output_type": "error",
     "traceback": [
      "\u001b[0;31m---------------------------------------------------------------------------\u001b[0m",
      "\u001b[0;31mFileNotFoundError\u001b[0m                         Traceback (most recent call last)",
      "Cell \u001b[0;32mIn[18], line 1\u001b[0m\n\u001b[0;32m----> 1\u001b[0m \u001b[43mremove_non_image_file\u001b[49m\u001b[43m(\u001b[49m\u001b[43mmy_data_dir\u001b[49m\u001b[38;5;241;43m=\u001b[39;49m\u001b[38;5;124;43m'\u001b[39;49m\u001b[38;5;124;43minputs/cherry_mildew_dataset/cherry-leaves\u001b[39;49m\u001b[38;5;124;43m'\u001b[39;49m\u001b[43m)\u001b[49m\n",
      "Cell \u001b[0;32mIn[17], line 3\u001b[0m, in \u001b[0;36mremove_non_image_file\u001b[0;34m(my_data_dir)\u001b[0m\n\u001b[1;32m      1\u001b[0m \u001b[38;5;28;01mdef\u001b[39;00m \u001b[38;5;21mremove_non_image_file\u001b[39m(my_data_dir):\n\u001b[1;32m      2\u001b[0m     image_extension \u001b[38;5;241m=\u001b[39m (\u001b[38;5;124m'\u001b[39m\u001b[38;5;124m.png\u001b[39m\u001b[38;5;124m'\u001b[39m, \u001b[38;5;124m'\u001b[39m\u001b[38;5;124m.jpg\u001b[39m\u001b[38;5;124m'\u001b[39m, \u001b[38;5;124m'\u001b[39m\u001b[38;5;124m.jpeg\u001b[39m\u001b[38;5;124m'\u001b[39m)\n\u001b[0;32m----> 3\u001b[0m     folders \u001b[38;5;241m=\u001b[39m \u001b[43mos\u001b[49m\u001b[38;5;241;43m.\u001b[39;49m\u001b[43mlistdir\u001b[49m\u001b[43m(\u001b[49m\u001b[43mmy_data_dir\u001b[49m\u001b[43m)\u001b[49m\n\u001b[1;32m      4\u001b[0m     \u001b[38;5;28;01mfor\u001b[39;00m folder \u001b[38;5;129;01min\u001b[39;00m folders:\n\u001b[1;32m      5\u001b[0m         files \u001b[38;5;241m=\u001b[39m os\u001b[38;5;241m.\u001b[39mlistdir(my_data_dir \u001b[38;5;241m+\u001b[39m \u001b[38;5;124m'\u001b[39m\u001b[38;5;124m/\u001b[39m\u001b[38;5;124m'\u001b[39m \u001b[38;5;241m+\u001b[39m folder)\n",
      "\u001b[0;31mFileNotFoundError\u001b[0m: [Errno 2] No such file or directory: 'inputs/cherry_mildew_dataset/cherry-leaves'"
     ]
    }
   ],
   "source": [
    "remove_non_image_file(my_data_dir='inputs/cherry_mildew_dataset/cherry-leaves')"
   ]
  },
  {
   "cell_type": "code",
   "execution_count": null,
   "metadata": {},
   "outputs": [],
   "source": []
  },
  {
   "cell_type": "markdown",
   "metadata": {},
   "source": [
    "NOTE"
   ]
  },
  {
   "cell_type": "markdown",
   "metadata": {},
   "source": [
    "* You may add as many sections as you want, as long as it supports your project workflow.\n",
    "* All notebook's cells should be run top-down (you can't create a dynamic wherein a given point you need to go back to a previous cell to execute some task, like go back to a previous cell and refresh a variable content)"
   ]
  },
  {
   "cell_type": "markdown",
   "metadata": {
    "id": "ltNetd085qHf"
   },
   "source": [
    "# Push files to Repo"
   ]
  },
  {
   "cell_type": "markdown",
   "metadata": {},
   "source": [
    "* If you don't need to push files to Repo, you may replace this section with \"Conclusions and Next Steps\" and state your conclusions and next steps."
   ]
  },
  {
   "cell_type": "code",
   "execution_count": 19,
   "metadata": {
    "id": "aKlnIozA4eQO",
    "outputId": "fd09bc1f-adb1-4511-f6ce-492a6af570c0"
   },
   "outputs": [
    {
     "ename": "IndentationError",
     "evalue": "expected an indented block (1114530593.py, line 5)",
     "output_type": "error",
     "traceback": [
      "\u001b[0;36m  Cell \u001b[0;32mIn[19], line 5\u001b[0;36m\u001b[0m\n\u001b[0;31m    except Exception as e:\u001b[0m\n\u001b[0m    ^\u001b[0m\n\u001b[0;31mIndentationError\u001b[0m\u001b[0;31m:\u001b[0m expected an indented block\n"
     ]
    }
   ],
   "source": [
    "import os\n",
    "try:\n",
    "    # create here your folder\n",
    "    # os.makedirs(name='')\n",
    "except Exception as e:\n",
    "    print(e)\n"
   ]
  },
  {
   "cell_type": "code",
   "execution_count": null,
   "metadata": {},
   "outputs": [],
   "source": []
  }
 ],
 "metadata": {
  "accelerator": "GPU",
  "colab": {
   "name": "Data Practitioner Jupyter Notebook.ipynb",
   "provenance": [],
   "toc_visible": true
  },
  "interpreter": {
   "hash": "8b8334dab9339717f727a1deaf837b322d7a41c20d15cc86be99a8e69ceec8ce"
  },
  "kernelspec": {
   "display_name": "Python 3 (ipykernel)",
   "language": "python",
   "name": "python3"
  },
  "language_info": {
   "codemirror_mode": {
    "name": "ipython",
    "version": 3
   },
   "file_extension": ".py",
   "mimetype": "text/x-python",
   "name": "python",
   "nbconvert_exporter": "python",
   "pygments_lexer": "ipython3",
   "version": "3.8.12"
  }
 },
 "nbformat": 4,
 "nbformat_minor": 4
}
